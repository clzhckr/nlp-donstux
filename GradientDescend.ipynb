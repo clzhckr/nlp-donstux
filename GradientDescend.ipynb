{
 "cells": [
  {
   "cell_type": "code",
   "execution_count": 1,
   "id": "98960d45",
   "metadata": {},
   "outputs": [],
   "source": [
    "import numpy as np\n",
    "import matplotlib.pyplot as plt\n",
    "from sklearn.datasets import load_digits\n",
    "from sklearn.model_selection import train_test_split\n",
    "np.random.seed(24)"
   ]
  },
  {
   "cell_type": "code",
   "execution_count": 2,
   "id": "101f3c23",
   "metadata": {},
   "outputs": [],
   "source": [
    "data = load_digits()"
   ]
  },
  {
   "cell_type": "code",
   "execution_count": 3,
   "id": "fd3aca3b",
   "metadata": {},
   "outputs": [],
   "source": [
    "X = data['data']\n",
    "y = (data['target'] >= 7).astype(np.int32)"
   ]
  },
  {
   "cell_type": "code",
   "execution_count": 4,
   "id": "370c9217",
   "metadata": {},
   "outputs": [
    {
     "data": {
      "text/plain": [
       "<Figure size 432x288 with 0 Axes>"
      ]
     },
     "metadata": {},
     "output_type": "display_data"
    },
    {
     "data": {
      "image/png": "[encoded data removed]",
      "text/plain": [
       "<Figure size 288x288 with 1 Axes>"
      ]
     },
     "metadata": {
      "needs_background": "light"
     },
     "output_type": "display_data"
    },
    {
     "name": "stdout",
     "output_type": "stream",
     "text": [
      "5\n"
     ]
    }
   ],
   "source": [
    "plt.gray()\n",
    "index = np.random.randint(0, len(X) - 1)\n",
    "plt.matshow(X[index].reshape(8, 8))\n",
    "plt.show()\n",
    "print(data.target[index])"
   ]
  },
  {
   "cell_type": "code",
   "execution_count": 5,
   "id": "be9d05ac",
   "metadata": {},
   "outputs": [],
   "source": [
    "X_train, X_test, y_train, y_test = train_test_split(X,\n",
    "                                                    y,\n",
    "                                                    train_size=0.77,\n",
    "                                                    shuffle=True)"
   ]
  },
  {
   "cell_type": "code",
   "execution_count": 6,
   "id": "d284c421",
   "metadata": {},
   "outputs": [
    {
     "data": {
      "text/plain": [
       "((1383, 64), (414, 64))"
      ]
     },
     "execution_count": 6,
     "metadata": {},
     "output_type": "execute_result"
    }
   ],
   "source": [
    "X_train.shape, X_test.shape"
   ]
  },
  {
   "attachments": {
    "image-2.png": {
     "image/png": "[encoded data removed]"
    },
    "image.png": {
     "image/png": "[encoded data removed]"
    }
   },
   "cell_type": "markdown",
   "id": "687173b5",
   "metadata": {},
   "source": [
    "![image-2.png](attachment:image-2.png)\n",
    "![image.png](attachment:image.png)"
   ]
  },
  {
   "cell_type": "code",
   "execution_count": 7,
   "id": "fdc1e921",
   "metadata": {},
   "outputs": [],
   "source": [
    "def loss (fact, prediction):\n",
    "    return -np.sum(fact*np.log(prediction)-(1-fact)*np.log(1-prediction), axis=0)/len(fact)"
   ]
  },
  {
   "cell_type": "code",
   "execution_count": 8,
   "id": "dcfcaf38",
   "metadata": {},
   "outputs": [],
   "source": [
    "def sigmoid(x):\n",
    "    return 1.0/(1 + np.exp(-x))"
   ]
  },
  {
   "cell_type": "code",
   "execution_count": 9,
   "id": "8e863ddb",
   "metadata": {},
   "outputs": [],
   "source": [
    "m, n = X_train.shape"
   ]
  },
  {
   "attachments": {
    "image.png": {
     "image/png": "[encoded data removed]"
    }
   },
   "cell_type": "markdown",
   "id": "6b2a3d76",
   "metadata": {},
   "source": [
    "![image.png](attachment:image.png)"
   ]
  },
  {
   "cell_type": "code",
   "execution_count": 10,
   "id": "e8d491bf",
   "metadata": {},
   "outputs": [],
   "source": [
    "class regression:\n",
    "    def __init__(self):\n",
    "        self.weight = np.random.randn(n,1) * 0.001\n",
    "        self.bias = np.random.randn() * 0.001\n",
    "        self.report_every = 25\n",
    "    def train(self, X, y, lr = 0.005, iters = 25):\n",
    "        self.losses_train = []\n",
    "        self.losses_test = []\n",
    "        \n",
    "        for iteration in range(iters):\n",
    "            dw = np.zeros((n,1))\n",
    "            db = 0\n",
    "            \n",
    "            for i in range (len(X)):\n",
    "                z = X[i].reshape(1, n).dot(self.weight) + self.bias\n",
    "                a = sigmoid(z)[0][0]\n",
    "                \n",
    "                dw += (a - y[i]) * X[i].reshape(n, 1)\n",
    "                db += (a - y[i])\n",
    "                \n",
    "            dw /= len(X)\n",
    "            db /= len(X)\n",
    "            \n",
    "            self.weight = self.weight - lr * dw\n",
    "            self.bias = self.bias - lr * db\n",
    "            \n",
    "            if iteration % self.report_every == 0:\n",
    "                self.losses_train.append(loss(y, self.predict(X)))\n",
    "                self.losses_test.append(loss(y_test, self.predict(X_test)))\n",
    "                \n",
    "    \n",
    "\n",
    "    def predict(self, X):        \n",
    "        return np.array([sigmoid(x.reshape(1, n).dot(self.weight) + self.bias)[0][0] \n",
    "                         for x in X])          \n",
    "                \n",
    "            "
   ]
  },
  {
   "cell_type": "code",
   "execution_count": 15,
   "id": "5cd9d221",
   "metadata": {},
   "outputs": [
    {
     "name": "stdout",
     "output_type": "stream",
     "text": [
      "Wall time: 3.83 s\n"
     ]
    }
   ],
   "source": [
    "%%time\n",
    "logreg = regression()\n",
    "logreg.train(X_train, y_train, iters=200)"
   ]
  },
  {
   "cell_type": "code",
   "execution_count": 16,
   "id": "f22db022",
   "metadata": {},
   "outputs": [
    {
     "data": {
      "image/png": "[encoded data removed]",
      "text/plain": [
       "<Figure size 432x288 with 1 Axes>"
      ]
     },
     "metadata": {
      "needs_background": "light"
     },
     "output_type": "display_data"
    }
   ],
   "source": [
    "domain = np.arange(0, len(logreg.losses_train)) * logreg.report_every\n",
    "plt.plot(domain, logreg.losses_train, label='тренировка')\n",
    "plt.plot(domain, logreg.losses_test, label='тест')\n",
    "plt.xlabel('номер итерации')\n",
    "plt.ylabel('потери')\n",
    "plt.legend();"
   ]
  },
  {
   "cell_type": "code",
   "execution_count": 13,
   "id": "07d35f33",
   "metadata": {},
   "outputs": [
    {
     "name": "stdout",
     "output_type": "stream",
     "text": [
      "Точность: 93.85%\n"
     ]
    }
   ],
   "source": [
    "train_prediction = np.array(logreg.predict(X_train))\n",
    "train_accuracy = np.sum((train_prediction > 0.5) == y_train) / len(train_prediction)\n",
    "print(f'Точность: {round(train_accuracy * 100, 2)}%')"
   ]
  },
  {
   "cell_type": "code",
   "execution_count": null,
   "id": "89d7298a",
   "metadata": {},
   "outputs": [],
   "source": []
  }
 ],
 "metadata": {
  "kernelspec": {
   "display_name": "Python 3",
   "language": "python",
   "name": "python3"
  },
  "language_info": {
   "codemirror_mode": {
    "name": "ipython",
    "version": 3
   },
   "file_extension": ".py",
   "mimetype": "text/x-python",
   "name": "python",
   "nbconvert_exporter": "python",
   "pygments_lexer": "ipython3",
   "version": "3.8.8"
  }
 },
 "nbformat": 4,
 "nbformat_minor": 5
}
